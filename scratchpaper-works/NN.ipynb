{
 "cells": [
  {
   "cell_type": "code",
   "execution_count": 1,
<<<<<<< HEAD
   "id": "rising-indian",
=======
>>>>>>> 53b39b93610345e4b1dbc4ea522f128a1b71d394
   "metadata": {},
   "outputs": [],
   "source": [
    "from emnist import extract_training_samples, extract_test_samples\n",
    "import os\n",
    "import numpy as np\n",
    "import matplotlib.pyplot as plt\n",
    "import tensorflow as tf\n",
    "from tensorflow import keras\n",
    "from sklearn.model_selection import train_test_split"
   ]
  },
  {
   "cell_type": "code",
<<<<<<< HEAD
   "execution_count": 13,
   "id": "sized-logging",
=======
   "execution_count": 2,
>>>>>>> 53b39b93610345e4b1dbc4ea522f128a1b71d394
   "metadata": {},
   "outputs": [],
   "source": [
    "images, labels = extract_training_samples(\"digits\");\n",
    "test_X, test_y = extract_test_samples(\"digits\");\n"
   ]
  },
  {
   "cell_type": "code",
<<<<<<< HEAD
   "execution_count": 17,
   "id": "widespread-console",
=======
   "execution_count": 3,
>>>>>>> 53b39b93610345e4b1dbc4ea522f128a1b71d394
   "metadata": {},
   "outputs": [],
   "source": [
    "test_X, test_y = extract_test_samples(\"digits\");"
   ]
  },
  {
   "cell_type": "code",
   "execution_count": 4,
<<<<<<< HEAD
   "id": "genetic-peripheral",
=======
>>>>>>> 53b39b93610345e4b1dbc4ea522f128a1b71d394
   "metadata": {},
   "outputs": [],
   "source": [
    "# Normalise\n",
    "images = images.astype('float32')\n",
    "images /= 255\n",
    "test_X = test_X.astype('float32')\n",
    "test_X /= 255"
   ]
  },
  {
   "cell_type": "code",
   "execution_count": 5,
<<<<<<< HEAD
   "id": "sunset-immigration",
=======
>>>>>>> 53b39b93610345e4b1dbc4ea522f128a1b71d394
   "metadata": {},
   "outputs": [],
   "source": [
    "train_X, val_X, train_y, val_y = train_test_split(images, labels, test_size= 0.10, random_state=42)"
   ]
  },
  {
   "cell_type": "code",
<<<<<<< HEAD
   "execution_count": 18,
   "id": "outer-retention",
=======
   "execution_count": 6,
>>>>>>> 53b39b93610345e4b1dbc4ea522f128a1b71d394
   "metadata": {},
   "outputs": [
    {
     "data": {
      "text/plain": [
       "(240000, 28, 28)"
      ]
     },
<<<<<<< HEAD
     "execution_count": 18,
=======
     "execution_count": 6,
>>>>>>> 53b39b93610345e4b1dbc4ea522f128a1b71d394
     "metadata": {},
     "output_type": "execute_result"
    }
   ],
   "source": [
    "images.shape"
   ]
  },
  {
   "cell_type": "code",
<<<<<<< HEAD
   "execution_count": 21,
   "id": "unknown-agenda",
=======
   "execution_count": 7,
>>>>>>> 53b39b93610345e4b1dbc4ea522f128a1b71d394
   "metadata": {},
   "outputs": [
    {
     "data": {
      "text/plain": [
       "(40000, 28, 28)"
      ]
     },
<<<<<<< HEAD
     "execution_count": 21,
=======
     "execution_count": 7,
>>>>>>> 53b39b93610345e4b1dbc4ea522f128a1b71d394
     "metadata": {},
     "output_type": "execute_result"
    }
   ],
   "source": [
    "test_X.shape"
   ]
  },
  {
   "cell_type": "code",
<<<<<<< HEAD
   "execution_count": 6,
   "id": "damaged-plant",
=======
   "execution_count": 13,
>>>>>>> 53b39b93610345e4b1dbc4ea522f128a1b71d394
   "metadata": {},
   "outputs": [],
   "source": [
    "num_classes = len(np.unique(train_y))"
   ]
  },
  {
   "cell_type": "code",
   "execution_count": 14,
<<<<<<< HEAD
   "id": "international-uruguay",
=======
>>>>>>> 53b39b93610345e4b1dbc4ea522f128a1b71d394
   "metadata": {},
   "outputs": [
    {
     "data": {
      "text/plain": [
       "47"
      ]
     },
     "execution_count": 14,
     "metadata": {},
     "output_type": "execute_result"
    }
   ],
   "source": [
    "num_classes"
   ]
  },
  {
   "cell_type": "code",
   "execution_count": null,
<<<<<<< HEAD
   "id": "mathematical-corruption",
=======
>>>>>>> 53b39b93610345e4b1dbc4ea522f128a1b71d394
   "metadata": {},
   "outputs": [],
   "source": [
    "## Build a simple NN using keras "
   ]
  },
  {
   "cell_type": "code",
<<<<<<< HEAD
   "execution_count": 7,
   "id": "coordinated-zoning",
=======
   "execution_count": 42,
>>>>>>> 53b39b93610345e4b1dbc4ea522f128a1b71d394
   "metadata": {},
   "outputs": [
    {
     "name": "stdout",
     "output_type": "stream",
     "text": [
      "Model: \"sequential\"\n",
      "_________________________________________________________________\n",
      "Layer (type)                 Output Shape              Param #   \n",
      "=================================================================\n",
      "flatten (Flatten)            (None, 784)               0         \n",
      "_________________________________________________________________\n",
      "dense (Dense)                (None, 128)               100480    \n",
      "_________________________________________________________________\n",
      "dense_1 (Dense)              (None, 256)               33024     \n",
      "_________________________________________________________________\n",
      "dense_2 (Dense)              (None, 47)                12079     \n",
      "=================================================================\n",
      "Total params: 145,583\n",
      "Trainable params: 145,583\n",
      "Non-trainable params: 0\n",
      "_________________________________________________________________\n"
     ]
    }
   ],
   "source": [
    "model = tf.keras.models.Sequential([\n",
    "  tf.keras.layers.Flatten(input_shape=(28, 28)),\n",
    "  tf.keras.layers.Dense(128,activation='relu'),\n",
    "  tf.keras.layers.Dense(256,activation='relu'),\n",
    "  tf.keras.layers.Dense(num_classes)\n",
    "])\n",
    "model.compile(\n",
    "    optimizer=tf.keras.optimizers.Adam(0.001),\n",
    "    loss=tf.keras.losses.SparseCategoricalCrossentropy(from_logits=True),\n",
    "    metrics=[tf.keras.metrics.SparseCategoricalAccuracy()],\n",
    ")\n",
    "\n",
    "model.summary()"
   ]
  },
  {
   "cell_type": "code",
<<<<<<< HEAD
   "execution_count": 8,
   "id": "welsh-pacific",
=======
   "execution_count": 39,
>>>>>>> 53b39b93610345e4b1dbc4ea522f128a1b71d394
   "metadata": {},
   "outputs": [],
   "source": [
    "history = model.fit(train_X, train_y, epochs=100,verbose=0,validation_data=(val_X, val_y))"
   ]
  },
  {
   "cell_type": "code",
<<<<<<< HEAD
   "execution_count": 9,
   "id": "apparent-danish",
=======
   "execution_count": 40,
>>>>>>> 53b39b93610345e4b1dbc4ea522f128a1b71d394
   "metadata": {},
   "outputs": [
    {
     "name": "stdout",
     "output_type": "stream",
     "text": [
      "Train: 0.961, Test: 0.819\n"
     ]
    }
   ],
   "source": [
    "# evaluate the model\n",
    "_, train_acc = model.evaluate(train_X, train_y, verbose=0)\n",
    "_, test_acc = model.evaluate(test_X, test_y, verbose=0)\n",
    "print('Train: %.3f, Test: %.3f' % (train_acc, test_acc))\n"
   ]
  },
  {
   "cell_type": "code",
<<<<<<< HEAD
   "execution_count": 10,
   "id": "blessed-virtue",
=======
   "execution_count": 41,
>>>>>>> 53b39b93610345e4b1dbc4ea522f128a1b71d394
   "metadata": {},
   "outputs": [
    {
     "data": {
      "image/png": "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\n",
      "text/plain": [
       "<Figure size 432x288 with 2 Axes>"
      ]
     },
     "metadata": {
      "needs_background": "light"
     },
     "output_type": "display_data"
    }
   ],
   "source": [
    "# plot loss during training\n",
    "plt.subplot(211)\n",
    "plt.title('Loss')\n",
    "plt.plot(history.history['loss'], label='train')\n",
    "plt.plot(history.history['val_loss'], label='val')\n",
    "plt.legend()\n",
    "# plot accuracy during training\n",
    "plt.subplot(212)\n",
    "plt.title('Accuracy')\n",
    "plt.plot(history.history['sparse_categorical_accuracy'], label='train')\n",
    "plt.plot(history.history['val_sparse_categorical_accuracy'], label='val')\n",
    "plt.legend()\n",
    "\n",
    "plt.tight_layout()\n",
    "plt.show()"
   ]
  },
  {
   "cell_type": "code",
   "execution_count": 26,
<<<<<<< HEAD
   "id": "broke-orlando",
=======
>>>>>>> 53b39b93610345e4b1dbc4ea522f128a1b71d394
   "metadata": {},
   "outputs": [],
   "source": [
    "# plot accuracy and loss\n",
    "def plot_performance(epochs, acc, val_acc):\n",
    "    # Plot training & validation accuracy values\n",
    "    plt.plot(epochs, acc, 'b')\n",
    "    plt.plot(epochs, val_acc, 'r')\n",
    "    plt.title('Model accuracy')\n",
    "    plt.ylabel('Accuracy')\n",
    "    plt.xlabel('Epoch')\n",
    "    plt.legend(['Train', 'Val'], loc='uper left')\n",
    "    plt.show()"
   ]
  },
  {
   "cell_type": "code",
   "execution_count": 29,
<<<<<<< HEAD
   "id": "incorporate-mining",
=======
>>>>>>> 53b39b93610345e4b1dbc4ea522f128a1b71d394
   "metadata": {},
   "outputs": [
    {
     "ename": "KeyError",
     "evalue": "'acc'",
     "output_type": "error",
     "traceback": [
      "\u001B[0;31m---------------------------------------------------------------------------\u001B[0m",
      "\u001B[0;31mKeyError\u001B[0m                                  Traceback (most recent call last)",
      "\u001B[0;32m<ipython-input-29-470f0b4e4127>\u001B[0m in \u001B[0;36m<module>\u001B[0;34m\u001B[0m\n\u001B[1;32m      1\u001B[0m \u001B[0;31m#%%\u001B[0m\u001B[0;34m\u001B[0m\u001B[0;34m\u001B[0m\u001B[0;34m\u001B[0m\u001B[0m\n\u001B[0;32m----> 2\u001B[0;31m \u001B[0macc\u001B[0m \u001B[0;34m=\u001B[0m \u001B[0mhistory\u001B[0m\u001B[0;34m.\u001B[0m\u001B[0mhistory\u001B[0m\u001B[0;34m[\u001B[0m\u001B[0;34m'acc'\u001B[0m\u001B[0;34m]\u001B[0m\u001B[0;34m\u001B[0m\u001B[0;34m\u001B[0m\u001B[0m\n\u001B[0m\u001B[1;32m      3\u001B[0m \u001B[0mval_acc\u001B[0m \u001B[0;34m=\u001B[0m \u001B[0mhistory\u001B[0m\u001B[0;34m.\u001B[0m\u001B[0mhistory\u001B[0m\u001B[0;34m[\u001B[0m\u001B[0;34m'val_acc'\u001B[0m\u001B[0;34m]\u001B[0m\u001B[0;34m\u001B[0m\u001B[0;34m\u001B[0m\u001B[0m\n\u001B[1;32m      4\u001B[0m \u001B[0mloss\u001B[0m \u001B[0;34m=\u001B[0m \u001B[0mhistory\u001B[0m\u001B[0;34m.\u001B[0m\u001B[0mhistory\u001B[0m\u001B[0;34m[\u001B[0m\u001B[0;34m'loss'\u001B[0m\u001B[0;34m]\u001B[0m\u001B[0;34m\u001B[0m\u001B[0;34m\u001B[0m\u001B[0m\n\u001B[1;32m      5\u001B[0m \u001B[0mval_loss\u001B[0m \u001B[0;34m=\u001B[0m \u001B[0mhistory\u001B[0m\u001B[0;34m.\u001B[0m\u001B[0mhistory\u001B[0m\u001B[0;34m[\u001B[0m\u001B[0;34m'val_loss'\u001B[0m\u001B[0;34m]\u001B[0m\u001B[0;34m\u001B[0m\u001B[0;34m\u001B[0m\u001B[0m\n",
      "\u001B[0;31mKeyError\u001B[0m: 'acc'"
     ]
    }
   ],
   "source": [
    "#%%\n",
    "acc = history.history['acc']\n",
    "val_acc = history.history['val_acc']\n",
    "loss = history.history['loss']\n",
    "val_loss = history.history['val_loss']\n",
    "epochs = range(1,len(acc)+1)\n",
    "\n"
   ]
  },
  {
   "cell_type": "code",
   "execution_count": 47,
<<<<<<< HEAD
   "id": "everyday-edgar",
=======
>>>>>>> 53b39b93610345e4b1dbc4ea522f128a1b71d394
   "metadata": {},
   "outputs": [
    {
     "data": {
      "text/plain": [
       "array([33, 45,  5, 33, 43, 32,  6,  6,  7, 40], dtype=uint8)"
      ]
     },
     "execution_count": 47,
     "metadata": {},
     "output_type": "execute_result"
    }
   ],
   "source": [
    "train_y[:10]"
   ]
  },
  {
   "cell_type": "code",
   "execution_count": null,
<<<<<<< HEAD
   "id": "exterior-province",
=======
>>>>>>> 53b39b93610345e4b1dbc4ea522f128a1b71d394
   "metadata": {},
   "outputs": [],
   "source": []
  }
 ],
 "metadata": {
  "kernelspec": {
   "display_name": "Python 3",
   "language": "python",
   "name": "python3"
  },
  "language_info": {
   "codemirror_mode": {
    "name": "ipython",
    "version": 3
   },
   "file_extension": ".py",
   "mimetype": "text/x-python",
   "name": "python",
   "nbconvert_exporter": "python",
   "pygments_lexer": "ipython3",
   "version": "3.7.7"
  }
 },
 "nbformat": 4,
 "nbformat_minor": 5
}