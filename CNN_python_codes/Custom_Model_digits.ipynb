{
  "nbformat": 4,
  "nbformat_minor": 0,
  "metadata": {
    "colab": {
      "name": "Custom-Model-digits.ipynb",
      "provenance": [],
      "collapsed_sections": []
    },
    "kernelspec": {
      "name": "python3",
      "display_name": "Python 3"
    },
    "language_info": {
      "name": "python"
    },
    "accelerator": "GPU"
  },
  "cells": [
    {
      "cell_type": "code",
      "metadata": {
        "colab": {
          "base_uri": "https://localhost:8080/"
        },
        "id": "vM7LbuqULtpt",
        "outputId": "816213ab-3b9a-4013-b2b2-58d23264761b"
      },
      "source": [
        "!git clone https://github.com/sorki/python-mnist\n",
        "!./python-mnist/bin/mnist_get_data.sh\n",
        "!pip3 install emnist keras-tuner\n",
        "from emnist import extract_training_samples\n",
        "\n",
        "print(\"Imported the EMNIST libraries we need!\")"
      ],
      "execution_count": 1,
      "outputs": [
        {
          "output_type": "stream",
          "text": [
            "Cloning into 'python-mnist'...\n",
            "remote: Enumerating objects: 240, done.\u001b[K\n",
            "remote: Total 240 (delta 0), reused 0 (delta 0), pack-reused 240\u001b[K\n",
            "Receiving objects: 100% (240/240), 44.93 KiB | 4.49 MiB/s, done.\n",
            "Resolving deltas: 100% (118/118), done.\n",
            "--2021-03-19 11:12:17--  http://yann.lecun.com/exdb/mnist/\n",
            "Resolving yann.lecun.com (yann.lecun.com)... 172.67.171.76, 104.21.29.36, 2606:4700:3036::ac43:ab4c, ...\n",
            "Connecting to yann.lecun.com (yann.lecun.com)|172.67.171.76|:80... connected.\n",
            "HTTP request sent, awaiting response... 503 Service Unavailable\n",
            "2021-03-19 11:12:17 ERROR 503: Service Unavailable.\n",
            "\n",
            "/content/data /content\n",
            "gzip: *.gz: No such file or directory\n",
            "/content\n",
            "Collecting emnist\n",
            "  Downloading https://files.pythonhosted.org/packages/d1/f4/78b24acbef9e8fe976dda700f16a3606f3b8363b015bc555f8050fbbd8ac/emnist-0.0-py3-none-any.whl\n",
            "Collecting keras-tuner\n",
            "\u001b[?25l  Downloading https://files.pythonhosted.org/packages/20/ec/1ef246787174b1e2bb591c95f29d3c1310070cad877824f907faba3dade9/keras-tuner-1.0.2.tar.gz (62kB)\n",
            "\u001b[K     |████████████████████████████████| 71kB 7.1MB/s \n",
            "\u001b[?25hRequirement already satisfied: tqdm in /usr/local/lib/python3.7/dist-packages (from emnist) (4.41.1)\n",
            "Requirement already satisfied: requests in /usr/local/lib/python3.7/dist-packages (from emnist) (2.23.0)\n",
            "Requirement already satisfied: numpy in /usr/local/lib/python3.7/dist-packages (from emnist) (1.19.5)\n",
            "Requirement already satisfied: packaging in /usr/local/lib/python3.7/dist-packages (from keras-tuner) (20.9)\n",
            "Requirement already satisfied: future in /usr/local/lib/python3.7/dist-packages (from keras-tuner) (0.16.0)\n",
            "Requirement already satisfied: tabulate in /usr/local/lib/python3.7/dist-packages (from keras-tuner) (0.8.9)\n",
            "Collecting terminaltables\n",
            "  Downloading https://files.pythonhosted.org/packages/9b/c4/4a21174f32f8a7e1104798c445dacdc1d4df86f2f26722767034e4de4bff/terminaltables-3.1.0.tar.gz\n",
            "Collecting colorama\n",
            "  Downloading https://files.pythonhosted.org/packages/44/98/5b86278fbbf250d239ae0ecb724f8572af1c91f4a11edf4d36a206189440/colorama-0.4.4-py2.py3-none-any.whl\n",
            "Requirement already satisfied: scipy in /usr/local/lib/python3.7/dist-packages (from keras-tuner) (1.4.1)\n",
            "Requirement already satisfied: scikit-learn in /usr/local/lib/python3.7/dist-packages (from keras-tuner) (0.22.2.post1)\n",
            "Requirement already satisfied: chardet<4,>=3.0.2 in /usr/local/lib/python3.7/dist-packages (from requests->emnist) (3.0.4)\n",
            "Requirement already satisfied: certifi>=2017.4.17 in /usr/local/lib/python3.7/dist-packages (from requests->emnist) (2020.12.5)\n",
            "Requirement already satisfied: idna<3,>=2.5 in /usr/local/lib/python3.7/dist-packages (from requests->emnist) (2.10)\n",
            "Requirement already satisfied: urllib3!=1.25.0,!=1.25.1,<1.26,>=1.21.1 in /usr/local/lib/python3.7/dist-packages (from requests->emnist) (1.24.3)\n",
            "Requirement already satisfied: pyparsing>=2.0.2 in /usr/local/lib/python3.7/dist-packages (from packaging->keras-tuner) (2.4.7)\n",
            "Requirement already satisfied: joblib>=0.11 in /usr/local/lib/python3.7/dist-packages (from scikit-learn->keras-tuner) (1.0.1)\n",
            "Building wheels for collected packages: keras-tuner, terminaltables\n",
            "  Building wheel for keras-tuner (setup.py) ... \u001b[?25l\u001b[?25hdone\n",
            "  Created wheel for keras-tuner: filename=keras_tuner-1.0.2-cp37-none-any.whl size=78938 sha256=54a53c6289d9eeafc3dd1f193c1da6d789c8dbcf2acc1cd777aa7b3794be8176\n",
            "  Stored in directory: /root/.cache/pip/wheels/bb/a1/8a/7c3de0efb3707a1701b36ebbfdbc4e67aedf6d4943a1f463d6\n",
            "  Building wheel for terminaltables (setup.py) ... \u001b[?25l\u001b[?25hdone\n",
            "  Created wheel for terminaltables: filename=terminaltables-3.1.0-cp37-none-any.whl size=15356 sha256=b56064225f86600b6688bab730ce90bfdb41e69cffc0450384c890e29b2e354a\n",
            "  Stored in directory: /root/.cache/pip/wheels/30/6b/50/6c75775b681fb36cdfac7f19799888ef9d8813aff9e379663e\n",
            "Successfully built keras-tuner terminaltables\n",
            "Installing collected packages: emnist, terminaltables, colorama, keras-tuner\n",
            "Successfully installed colorama-0.4.4 emnist-0.0 keras-tuner-1.0.2 terminaltables-3.1.0\n",
            "Imported the EMNIST libraries we need!\n"
          ],
          "name": "stdout"
        }
      ]
    },
    {
      "cell_type": "code",
      "metadata": {
        "id": "0D3N9jT4L3_z"
      },
      "source": [
        "import os\n",
        "import numpy as np\n",
        "import matplotlib.pyplot as plt\n",
        "import tensorflow as tf\n",
        "from tensorflow import keras\n",
        "from sklearn.model_selection import train_test_split\n",
        "from keras.layers import *\n",
        "from keras.models import *\n",
        "from keras.optimizers import *\n",
        "from keras.utils import to_categorical\n",
        "from emnist import extract_training_samples, extract_test_samples\n",
        "\n",
        "\n",
        "from sklearn.model_selection import GridSearchCV\n",
        "from keras.wrappers.scikit_learn import KerasClassifier\n",
        "\n",
        "import kerastuner"
      ],
      "execution_count": 2,
      "outputs": []
    },
    {
      "cell_type": "code",
      "metadata": {
        "colab": {
          "base_uri": "https://localhost:8080/"
        },
        "id": "UCJBWRvuL6JG",
        "outputId": "2e546558-b7e2-4ae5-e205-e8f692a16db7"
      },
      "source": [
        "# Note: If you are using the Google Colab, test the GPU source \n",
        "gpu_info = !nvidia-smi\n",
        "gpu_info = '\\n'.join(gpu_info)\n",
        "if gpu_info.find('failed') >= 0:\n",
        "  print('Select the Runtime > \"Change runtime type\" menu to enable a GPU accelerator, ')\n",
        "  print('and then re-execute this cell.')\n",
        "else:\n",
        "  print(gpu_info)"
      ],
      "execution_count": 3,
      "outputs": [
        {
          "output_type": "stream",
          "text": [
            "Fri Mar 19 11:12:27 2021       \n",
            "+-----------------------------------------------------------------------------+\n",
            "| NVIDIA-SMI 460.56       Driver Version: 460.32.03    CUDA Version: 11.2     |\n",
            "|-------------------------------+----------------------+----------------------+\n",
            "| GPU  Name        Persistence-M| Bus-Id        Disp.A | Volatile Uncorr. ECC |\n",
            "| Fan  Temp  Perf  Pwr:Usage/Cap|         Memory-Usage | GPU-Util  Compute M. |\n",
            "|                               |                      |               MIG M. |\n",
            "|===============================+======================+======================|\n",
            "|   0  Tesla V100-SXM2...  Off  | 00000000:00:04.0 Off |                    0 |\n",
            "| N/A   36C    P0    25W / 300W |      0MiB / 16160MiB |      0%      Default |\n",
            "|                               |                      |                  N/A |\n",
            "+-------------------------------+----------------------+----------------------+\n",
            "                                                                               \n",
            "+-----------------------------------------------------------------------------+\n",
            "| Processes:                                                                  |\n",
            "|  GPU   GI   CI        PID   Type   Process name                  GPU Memory |\n",
            "|        ID   ID                                                   Usage      |\n",
            "|=============================================================================|\n",
            "|  No running processes found                                                 |\n",
            "+-----------------------------------------------------------------------------+\n"
          ],
          "name": "stdout"
        }
      ]
    },
    {
      "cell_type": "code",
      "metadata": {
        "colab": {
          "base_uri": "https://localhost:8080/"
        },
        "id": "70sT99mvL8Hx",
        "outputId": "33842bc3-2432-47c6-d21b-04fdb350c923"
      },
      "source": [
        "train_X, train_y = extract_training_samples(\"digits\");\n",
        "test_X, test_y = extract_test_samples(\"digits\");\n",
        "\n",
        "# Normalise\n",
        "train_X = train_X.astype('float32')\n",
        "train_X /= 255\n",
        "test_X = test_X.astype('float32')\n",
        "test_X /= 255\n",
        "\n",
        "#train_X, val_X, train_y, val_y = train_test_split(images, labels, test_size= 0.10, random_state=42)\n"
      ],
      "execution_count": 4,
      "outputs": [
        {
          "output_type": "stream",
          "text": [
            "Downloading emnist.zip: 536MB [00:04, 137MB/s]\n"
          ],
          "name": "stderr"
        }
      ]
    },
    {
      "cell_type": "code",
      "metadata": {
        "id": "s9cAKJHPL-Oo"
      },
      "source": [
        "# Reshape image for CNN\n",
        "train_X = train_X.reshape(-1, 28, 28, 1)\n",
        "test_X = test_X.reshape(-1, 28, 28, 1)\n",
        "\n",
        "num_classes = np.unique(train_y)\n",
        "train_y = to_categorical(train_y)\n",
        "test_y = to_categorical(test_y)"
      ],
      "execution_count": 5,
      "outputs": []
    },
    {
      "cell_type": "code",
      "metadata": {
        "id": "uzsGCwlhMKL6"
      },
      "source": [
        "def model_builder(hp):\n",
        "    model = keras.Sequential()\n",
        "    hp_filters = hp.Choice('filters', values=[32, 64, 128])\n",
        "    hp_kernel_size = hp.Choice('kernel_size', values=[3, 5])\n",
        "    hp_dropout_rate = hp.Float('rate', min_value=0, max_value=0.5, step=0.1)\n",
        "    model.add(Conv2D(filters=hp_filters, kernel_size=hp_kernel_size, activation='relu', kernel_initializer='he_uniform', input_shape=(28, 28, 1)))\n",
        "    model.add(MaxPooling2D((2, 2)))\n",
        "    model.add(Dropout(rate=hp_dropout_rate))\n",
        "    model.add(Conv2D(filters=hp_filters*2, kernel_size=hp_kernel_size, activation='relu', kernel_initializer='he_uniform'))\n",
        "    model.add(MaxPooling2D((2, 2)))\n",
        "    model.add(Dropout(rate=hp_dropout_rate))\n",
        "    model.add(Flatten())\n",
        "    hp_units = hp.Choice('units', values=[64, 128, 256, 512])\n",
        "    model.add(Dense(units=hp_units, activation='relu', kernel_initializer='he_uniform'))\n",
        "    model.add(Dropout(rate=hp_dropout_rate))\n",
        "    model.add(Dense(10, activation='softmax'))  \n",
        "\n",
        "\n",
        "    # Tune the learning rate for the optimizer\n",
        "    # Choose an optimal value from 0.01, 0.001, or 0.0001\n",
        "    hp_learning_rate = hp.Choice('learning_rate', values=[1e-2, 1e-3, 1e-4])\n",
        "\n",
        "    model.compile(optimizer=keras.optimizers.Adam(learning_rate=hp_learning_rate),\n",
        "                loss=keras.losses.CategoricalCrossentropy(from_logits=True),\n",
        "                metrics=['accuracy'])\n",
        "\n",
        "    return model"
      ],
      "execution_count": 12,
      "outputs": []
    },
    {
      "cell_type": "code",
      "metadata": {
        "colab": {
          "base_uri": "https://localhost:8080/"
        },
        "id": "KWn9SZewMoRD",
        "outputId": "cc2b0344-354a-4a78-b945-ebafda72bbdf"
      },
      "source": [
        "tuner = kerastuner.Hyperband(model_builder,\n",
        "                     objective='val_accuracy',\n",
        "                     max_epochs=10,\n",
        "                     factor=3,\n",
        "                     directory='my_dir',\n",
        "                     project_name='intro_to_kt')\n",
        "stop_early = tf.keras.callbacks.EarlyStopping(monitor='val_loss', patience=5)\n",
        "tuner.search(train_X, train_y, epochs=50, validation_split=0.2, callbacks=[stop_early])\n"
      ],
      "execution_count": 13,
      "outputs": [
        {
          "output_type": "stream",
          "text": [
            "Trial 30 Complete [00h 03m 37s]\n",
            "val_accuracy: 0.9954166412353516\n",
            "\n",
            "Best val_accuracy So Far: 0.9954166412353516\n",
            "Total elapsed time: 00h 42m 34s\n",
            "INFO:tensorflow:Oracle triggered exit\n"
          ],
          "name": "stdout"
        }
      ]
    },
    {
      "cell_type": "code",
      "metadata": {
        "id": "d-mfQ3HiXi2d"
      },
      "source": [
        "# Get the optimal hyperparameters\n",
        "best_hps=tuner.get_best_hyperparameters(num_trials=1)[0]\n"
      ],
      "execution_count": 15,
      "outputs": []
    },
    {
      "cell_type": "code",
      "metadata": {
        "colab": {
          "base_uri": "https://localhost:8080/"
        },
        "id": "JZ4YKzYvMp_w",
        "outputId": "0adde135-18b2-41b0-8383-8cd90efb502d"
      },
      "source": [
        "# Build the model with the optimal hyperparameters and train it on the data for 50 epochs\n",
        "checkpoint_filepath = './checkpoint'\n",
        "model_checkpoint_callback = tf.keras.callbacks.ModelCheckpoint(\n",
        "    filepath=checkpoint_filepath,\n",
        "    save_weights_only=False,\n",
        "    monitor='val_accuracy',\n",
        "    mode='max',\n",
        "    save_best_only=True)\n",
        "\n",
        "early_stop = tf.keras.callbacks.EarlyStopping(monitor='val_loss', patience=5)\n",
        "\n",
        "cb_list = [model_checkpoint_callback, early_stop]\n",
        "model = tuner.hypermodel.build(best_hps)\n",
        "history = model.fit(train_X, train_y, epochs=50, validation_split=0.2, callbacks=cb_list)\n",
        "\n",
        "val_acc_per_epoch = history.history['val_accuracy']\n",
        "best_epoch = val_acc_per_epoch.index(max(val_acc_per_epoch)) + 1\n",
        "print('Best epoch: %d' % (best_epoch,))\n"
      ],
      "execution_count": 16,
      "outputs": [
        {
          "output_type": "stream",
          "text": [
            "Epoch 1/50\n",
            "6000/6000 [==============================] - 22s 4ms/step - loss: 0.5209 - accuracy: 0.8354 - val_loss: 0.0536 - val_accuracy: 0.9837\n",
            "Epoch 2/50\n",
            "6000/6000 [==============================] - 22s 4ms/step - loss: 0.0685 - accuracy: 0.9795 - val_loss: 0.0306 - val_accuracy: 0.9907\n",
            "Epoch 3/50\n",
            "6000/6000 [==============================] - 22s 4ms/step - loss: 0.0453 - accuracy: 0.9862 - val_loss: 0.0245 - val_accuracy: 0.9928\n",
            "Epoch 4/50\n",
            "6000/6000 [==============================] - 22s 4ms/step - loss: 0.0343 - accuracy: 0.9897 - val_loss: 0.0210 - val_accuracy: 0.9938\n",
            "Epoch 5/50\n",
            "6000/6000 [==============================] - 22s 4ms/step - loss: 0.0289 - accuracy: 0.9913 - val_loss: 0.0189 - val_accuracy: 0.9943\n",
            "Epoch 6/50\n",
            "6000/6000 [==============================] - 21s 4ms/step - loss: 0.0254 - accuracy: 0.9920 - val_loss: 0.0193 - val_accuracy: 0.9942\n",
            "Epoch 7/50\n",
            "6000/6000 [==============================] - 22s 4ms/step - loss: 0.0238 - accuracy: 0.9928 - val_loss: 0.0171 - val_accuracy: 0.9951\n",
            "Epoch 8/50\n",
            "6000/6000 [==============================] - 22s 4ms/step - loss: 0.0205 - accuracy: 0.9937 - val_loss: 0.0165 - val_accuracy: 0.9955\n",
            "Epoch 9/50\n",
            "6000/6000 [==============================] - 22s 4ms/step - loss: 0.0199 - accuracy: 0.9942 - val_loss: 0.0157 - val_accuracy: 0.9953\n",
            "Epoch 10/50\n",
            "6000/6000 [==============================] - 22s 4ms/step - loss: 0.0178 - accuracy: 0.9944 - val_loss: 0.0158 - val_accuracy: 0.9954\n",
            "Epoch 11/50\n",
            "6000/6000 [==============================] - 22s 4ms/step - loss: 0.0170 - accuracy: 0.9949 - val_loss: 0.0159 - val_accuracy: 0.9957\n",
            "Epoch 12/50\n",
            "6000/6000 [==============================] - 21s 4ms/step - loss: 0.0157 - accuracy: 0.9953 - val_loss: 0.0153 - val_accuracy: 0.9956\n",
            "Epoch 13/50\n",
            "6000/6000 [==============================] - 22s 4ms/step - loss: 0.0144 - accuracy: 0.9956 - val_loss: 0.0152 - val_accuracy: 0.9960\n",
            "Epoch 14/50\n",
            "6000/6000 [==============================] - 22s 4ms/step - loss: 0.0133 - accuracy: 0.9960 - val_loss: 0.0160 - val_accuracy: 0.9955\n",
            "Epoch 15/50\n",
            "6000/6000 [==============================] - 22s 4ms/step - loss: 0.0131 - accuracy: 0.9957 - val_loss: 0.0148 - val_accuracy: 0.9959\n",
            "Epoch 16/50\n",
            "6000/6000 [==============================] - 22s 4ms/step - loss: 0.0125 - accuracy: 0.9963 - val_loss: 0.0148 - val_accuracy: 0.9963\n",
            "Epoch 17/50\n",
            "6000/6000 [==============================] - 22s 4ms/step - loss: 0.0119 - accuracy: 0.9962 - val_loss: 0.0149 - val_accuracy: 0.9960\n",
            "Epoch 18/50\n",
            "6000/6000 [==============================] - 22s 4ms/step - loss: 0.0107 - accuracy: 0.9968 - val_loss: 0.0147 - val_accuracy: 0.9961\n",
            "Epoch 19/50\n",
            "6000/6000 [==============================] - 22s 4ms/step - loss: 0.0108 - accuracy: 0.9966 - val_loss: 0.0149 - val_accuracy: 0.9962\n",
            "Epoch 20/50\n",
            "6000/6000 [==============================] - 22s 4ms/step - loss: 0.0104 - accuracy: 0.9969 - val_loss: 0.0148 - val_accuracy: 0.9963\n",
            "Epoch 21/50\n",
            "6000/6000 [==============================] - 22s 4ms/step - loss: 0.0101 - accuracy: 0.9969 - val_loss: 0.0156 - val_accuracy: 0.9962\n",
            "Epoch 22/50\n",
            "6000/6000 [==============================] - 21s 4ms/step - loss: 0.0095 - accuracy: 0.9971 - val_loss: 0.0147 - val_accuracy: 0.9964\n",
            "Epoch 23/50\n",
            "6000/6000 [==============================] - 22s 4ms/step - loss: 0.0096 - accuracy: 0.9970 - val_loss: 0.0152 - val_accuracy: 0.9963\n",
            "Epoch 24/50\n",
            "6000/6000 [==============================] - 22s 4ms/step - loss: 0.0086 - accuracy: 0.9972 - val_loss: 0.0152 - val_accuracy: 0.9962\n",
            "Epoch 25/50\n",
            "6000/6000 [==============================] - 22s 4ms/step - loss: 0.0087 - accuracy: 0.9973 - val_loss: 0.0154 - val_accuracy: 0.9963\n",
            "Epoch 26/50\n",
            "6000/6000 [==============================] - 22s 4ms/step - loss: 0.0084 - accuracy: 0.9974 - val_loss: 0.0150 - val_accuracy: 0.9965\n",
            "Epoch 27/50\n",
            "6000/6000 [==============================] - 22s 4ms/step - loss: 0.0073 - accuracy: 0.9976 - val_loss: 0.0162 - val_accuracy: 0.9962\n",
            "Epoch 28/50\n",
            "6000/6000 [==============================] - 22s 4ms/step - loss: 0.0076 - accuracy: 0.9978 - val_loss: 0.0152 - val_accuracy: 0.9965\n",
            "Epoch 29/50\n",
            "6000/6000 [==============================] - 22s 4ms/step - loss: 0.0075 - accuracy: 0.9978 - val_loss: 0.0160 - val_accuracy: 0.9962\n",
            "Epoch 30/50\n",
            "6000/6000 [==============================] - 22s 4ms/step - loss: 0.0067 - accuracy: 0.9979 - val_loss: 0.0156 - val_accuracy: 0.9967\n",
            "Epoch 31/50\n",
            "6000/6000 [==============================] - 22s 4ms/step - loss: 0.0060 - accuracy: 0.9980 - val_loss: 0.0163 - val_accuracy: 0.9962\n",
            "Epoch 32/50\n",
            "6000/6000 [==============================] - 22s 4ms/step - loss: 0.0073 - accuracy: 0.9975 - val_loss: 0.0163 - val_accuracy: 0.9964\n",
            "Epoch 33/50\n",
            "6000/6000 [==============================] - 22s 4ms/step - loss: 0.0072 - accuracy: 0.9978 - val_loss: 0.0169 - val_accuracy: 0.9962\n",
            "Epoch 34/50\n",
            "6000/6000 [==============================] - 22s 4ms/step - loss: 0.0058 - accuracy: 0.9982 - val_loss: 0.0172 - val_accuracy: 0.9961\n",
            "Epoch 35/50\n",
            "6000/6000 [==============================] - 22s 4ms/step - loss: 0.0066 - accuracy: 0.9978 - val_loss: 0.0158 - val_accuracy: 0.9963\n",
            "Epoch 36/50\n",
            "6000/6000 [==============================] - 22s 4ms/step - loss: 0.0058 - accuracy: 0.9980 - val_loss: 0.0161 - val_accuracy: 0.9962\n",
            "Epoch 37/50\n",
            "6000/6000 [==============================] - 22s 4ms/step - loss: 0.0056 - accuracy: 0.9982 - val_loss: 0.0162 - val_accuracy: 0.9966\n",
            "Epoch 38/50\n",
            "6000/6000 [==============================] - 22s 4ms/step - loss: 0.0059 - accuracy: 0.9979 - val_loss: 0.0181 - val_accuracy: 0.9961\n",
            "Epoch 39/50\n",
            "6000/6000 [==============================] - 22s 4ms/step - loss: 0.0061 - accuracy: 0.9981 - val_loss: 0.0163 - val_accuracy: 0.9966\n",
            "Epoch 40/50\n",
            "6000/6000 [==============================] - 22s 4ms/step - loss: 0.0058 - accuracy: 0.9980 - val_loss: 0.0178 - val_accuracy: 0.9961\n",
            "Epoch 41/50\n",
            "6000/6000 [==============================] - 22s 4ms/step - loss: 0.0059 - accuracy: 0.9981 - val_loss: 0.0176 - val_accuracy: 0.9962\n",
            "Epoch 42/50\n",
            "6000/6000 [==============================] - 22s 4ms/step - loss: 0.0048 - accuracy: 0.9983 - val_loss: 0.0172 - val_accuracy: 0.9963\n",
            "Epoch 43/50\n",
            "6000/6000 [==============================] - 22s 4ms/step - loss: 0.0041 - accuracy: 0.9986 - val_loss: 0.0173 - val_accuracy: 0.9965\n",
            "Epoch 44/50\n",
            "6000/6000 [==============================] - 22s 4ms/step - loss: 0.0054 - accuracy: 0.9982 - val_loss: 0.0178 - val_accuracy: 0.9964\n",
            "Epoch 45/50\n",
            "6000/6000 [==============================] - 22s 4ms/step - loss: 0.0051 - accuracy: 0.9984 - val_loss: 0.0179 - val_accuracy: 0.9963\n",
            "Epoch 46/50\n",
            "6000/6000 [==============================] - 22s 4ms/step - loss: 0.0047 - accuracy: 0.9985 - val_loss: 0.0176 - val_accuracy: 0.9963\n",
            "Epoch 47/50\n",
            "6000/6000 [==============================] - 22s 4ms/step - loss: 0.0047 - accuracy: 0.9986 - val_loss: 0.0178 - val_accuracy: 0.9964\n",
            "Epoch 48/50\n",
            "6000/6000 [==============================] - 22s 4ms/step - loss: 0.0048 - accuracy: 0.9984 - val_loss: 0.0177 - val_accuracy: 0.9965\n",
            "Epoch 49/50\n",
            "6000/6000 [==============================] - 22s 4ms/step - loss: 0.0041 - accuracy: 0.9985 - val_loss: 0.0176 - val_accuracy: 0.9964\n",
            "Epoch 50/50\n",
            "6000/6000 [==============================] - 22s 4ms/step - loss: 0.0048 - accuracy: 0.9983 - val_loss: 0.0181 - val_accuracy: 0.9963\n",
            "Best epoch: 30\n"
          ],
          "name": "stdout"
        }
      ]
    },
    {
      "cell_type": "code",
      "metadata": {
        "colab": {
          "base_uri": "https://localhost:8080/"
        },
        "id": "9_hfaNF3XeM7",
        "outputId": "a695a6bb-0306-4791-9193-24297a8d120a"
      },
      "source": [
        "print(f\" filters: {best_hps.get('filters')} \\n kernel_size: {best_hps.get('kernel_size')} \\n dropout_rate:{best_hps.get('rate')} \\n units:{best_hps.get('units')}\")"
      ],
      "execution_count": 31,
      "outputs": [
        {
          "output_type": "stream",
          "text": [
            " filters: 32 \n",
            " kernel_size: 5 \n",
            " dropout_rate:0.30000000000000004 \n",
            " units:512\n"
          ],
          "name": "stdout"
        }
      ]
    },
    {
      "cell_type": "code",
      "metadata": {
        "colab": {
          "base_uri": "https://localhost:8080/"
        },
        "id": "ndIR4a83XoSR",
        "outputId": "e16559eb-ba0f-471a-c09f-0ecb67632bd0"
      },
      "source": [
        "hypermodel = tuner.hypermodel.build(best_hps)\n",
        "\n",
        "# Retrain the model\n",
        "hypermodel.fit(train_X, train_y, epochs=best_epoch, validation_split=0.2)\n"
      ],
      "execution_count": 20,
      "outputs": [
        {
          "output_type": "stream",
          "text": [
            "Epoch 1/30\n",
            "6000/6000 [==============================] - 22s 4ms/step - loss: 0.5055 - accuracy: 0.8418 - val_loss: 0.0473 - val_accuracy: 0.9859\n",
            "Epoch 2/30\n",
            "6000/6000 [==============================] - 21s 4ms/step - loss: 0.0668 - accuracy: 0.9800 - val_loss: 0.0311 - val_accuracy: 0.9906\n",
            "Epoch 3/30\n",
            "6000/6000 [==============================] - 22s 4ms/step - loss: 0.0458 - accuracy: 0.9863 - val_loss: 0.0250 - val_accuracy: 0.9924\n",
            "Epoch 4/30\n",
            "6000/6000 [==============================] - 22s 4ms/step - loss: 0.0362 - accuracy: 0.9890 - val_loss: 0.0219 - val_accuracy: 0.9938\n",
            "Epoch 5/30\n",
            "6000/6000 [==============================] - 21s 4ms/step - loss: 0.0295 - accuracy: 0.9907 - val_loss: 0.0204 - val_accuracy: 0.9936\n",
            "Epoch 6/30\n",
            "6000/6000 [==============================] - 21s 4ms/step - loss: 0.0260 - accuracy: 0.9922 - val_loss: 0.0181 - val_accuracy: 0.9945\n",
            "Epoch 7/30\n",
            "6000/6000 [==============================] - 21s 4ms/step - loss: 0.0237 - accuracy: 0.9929 - val_loss: 0.0168 - val_accuracy: 0.9953\n",
            "Epoch 8/30\n",
            "6000/6000 [==============================] - 21s 4ms/step - loss: 0.0220 - accuracy: 0.9931 - val_loss: 0.0163 - val_accuracy: 0.9953\n",
            "Epoch 9/30\n",
            "6000/6000 [==============================] - 21s 4ms/step - loss: 0.0199 - accuracy: 0.9939 - val_loss: 0.0159 - val_accuracy: 0.9957\n",
            "Epoch 10/30\n",
            "6000/6000 [==============================] - 21s 4ms/step - loss: 0.0186 - accuracy: 0.9944 - val_loss: 0.0150 - val_accuracy: 0.9959\n",
            "Epoch 11/30\n",
            "6000/6000 [==============================] - 21s 4ms/step - loss: 0.0167 - accuracy: 0.9949 - val_loss: 0.0162 - val_accuracy: 0.9955\n",
            "Epoch 12/30\n",
            "6000/6000 [==============================] - 21s 4ms/step - loss: 0.0151 - accuracy: 0.9954 - val_loss: 0.0156 - val_accuracy: 0.9958\n",
            "Epoch 13/30\n",
            "6000/6000 [==============================] - 21s 4ms/step - loss: 0.0154 - accuracy: 0.9951 - val_loss: 0.0153 - val_accuracy: 0.9960\n",
            "Epoch 14/30\n",
            "6000/6000 [==============================] - 22s 4ms/step - loss: 0.0152 - accuracy: 0.9954 - val_loss: 0.0157 - val_accuracy: 0.9958\n",
            "Epoch 15/30\n",
            "6000/6000 [==============================] - 21s 4ms/step - loss: 0.0129 - accuracy: 0.9962 - val_loss: 0.0149 - val_accuracy: 0.9960\n",
            "Epoch 16/30\n",
            "6000/6000 [==============================] - 22s 4ms/step - loss: 0.0120 - accuracy: 0.9964 - val_loss: 0.0148 - val_accuracy: 0.9960\n",
            "Epoch 17/30\n",
            "6000/6000 [==============================] - 21s 4ms/step - loss: 0.0125 - accuracy: 0.9962 - val_loss: 0.0154 - val_accuracy: 0.9961\n",
            "Epoch 18/30\n",
            "6000/6000 [==============================] - 22s 4ms/step - loss: 0.0116 - accuracy: 0.9963 - val_loss: 0.0151 - val_accuracy: 0.9963\n",
            "Epoch 19/30\n",
            "6000/6000 [==============================] - 21s 4ms/step - loss: 0.0124 - accuracy: 0.9962 - val_loss: 0.0153 - val_accuracy: 0.9963\n",
            "Epoch 20/30\n",
            "6000/6000 [==============================] - 21s 4ms/step - loss: 0.0106 - accuracy: 0.9968 - val_loss: 0.0157 - val_accuracy: 0.9959\n",
            "Epoch 21/30\n",
            "6000/6000 [==============================] - 22s 4ms/step - loss: 0.0096 - accuracy: 0.9971 - val_loss: 0.0153 - val_accuracy: 0.9963\n",
            "Epoch 22/30\n",
            "6000/6000 [==============================] - 21s 4ms/step - loss: 0.0092 - accuracy: 0.9970 - val_loss: 0.0155 - val_accuracy: 0.9963\n",
            "Epoch 23/30\n",
            "6000/6000 [==============================] - 21s 4ms/step - loss: 0.0090 - accuracy: 0.9970 - val_loss: 0.0157 - val_accuracy: 0.9961\n",
            "Epoch 24/30\n",
            "6000/6000 [==============================] - 22s 4ms/step - loss: 0.0093 - accuracy: 0.9969 - val_loss: 0.0160 - val_accuracy: 0.9961\n",
            "Epoch 25/30\n",
            "6000/6000 [==============================] - 22s 4ms/step - loss: 0.0089 - accuracy: 0.9973 - val_loss: 0.0163 - val_accuracy: 0.9961\n",
            "Epoch 26/30\n",
            "6000/6000 [==============================] - 21s 4ms/step - loss: 0.0089 - accuracy: 0.9972 - val_loss: 0.0157 - val_accuracy: 0.9964\n",
            "Epoch 27/30\n",
            "6000/6000 [==============================] - 22s 4ms/step - loss: 0.0081 - accuracy: 0.9976 - val_loss: 0.0164 - val_accuracy: 0.9962\n",
            "Epoch 28/30\n",
            "6000/6000 [==============================] - 22s 4ms/step - loss: 0.0081 - accuracy: 0.9973 - val_loss: 0.0167 - val_accuracy: 0.9963\n",
            "Epoch 29/30\n",
            "6000/6000 [==============================] - 22s 4ms/step - loss: 0.0071 - accuracy: 0.9976 - val_loss: 0.0166 - val_accuracy: 0.9965\n",
            "Epoch 30/30\n",
            "6000/6000 [==============================] - 22s 4ms/step - loss: 0.0069 - accuracy: 0.9978 - val_loss: 0.0156 - val_accuracy: 0.9961\n"
          ],
          "name": "stdout"
        },
        {
          "output_type": "execute_result",
          "data": {
            "text/plain": [
              "<tensorflow.python.keras.callbacks.History at 0x7f67360dc8d0>"
            ]
          },
          "metadata": {
            "tags": []
          },
          "execution_count": 20
        }
      ]
    },
    {
      "cell_type": "code",
      "metadata": {
        "colab": {
          "base_uri": "https://localhost:8080/"
        },
        "id": "6u-72QdxX-H8",
        "outputId": "734d9085-a44a-43aa-dcd7-9d3ba329d6ed"
      },
      "source": [
        "eval_result = hypermodel.evaluate(test_X, test_y)\n",
        "print(\"[test loss, test accuracy]:\", eval_result)\n"
      ],
      "execution_count": 22,
      "outputs": [
        {
          "output_type": "stream",
          "text": [
            "1250/1250 [==============================] - 3s 2ms/step - loss: 0.0142 - accuracy: 0.9963\n",
            "[test loss, test accuracy]: [0.014162015169858932, 0.9963499903678894]\n"
          ],
          "name": "stdout"
        }
      ]
    },
    {
      "cell_type": "code",
      "metadata": {
        "colab": {
          "base_uri": "https://localhost:8080/"
        },
        "id": "d8j8tTv8YpW3",
        "outputId": "c30afc1f-ee8a-4f73-b1e6-ef16c0180a8b"
      },
      "source": [
        "# Retrieve the best model.\n",
        "best_model = tuner.get_best_models(num_models=1)[0]\n",
        "\n",
        "# Evaluate the best model.\n",
        "eval_result_best = best_model.evaluate(test_X, test_y)\n",
        "print(\"[test loss, test accuracy]:\", eval_result_best)"
      ],
      "execution_count": 23,
      "outputs": [
        {
          "output_type": "stream",
          "text": [
            "1250/1250 [==============================] - 3s 2ms/step - loss: 0.0171 - accuracy: 0.9949\n",
            "[test loss, test accuracy]: [0.016333704814314842, 0.9948999881744385]\n"
          ],
          "name": "stdout"
        }
      ]
    },
    {
      "cell_type": "code",
      "metadata": {
        "id": "jveuHT-pYpaa"
      },
      "source": [
        "hypermodel.save('custom_model_digits.h5')"
      ],
      "execution_count": 36,
      "outputs": []
    },
    {
      "cell_type": "code",
      "metadata": {
        "colab": {
          "base_uri": "https://localhost:8080/"
        },
        "id": "YVTrnm7U1lyv",
        "outputId": "cd744ee5-b256-478e-9edb-18f7bdb7be9e"
      },
      "source": [
        "history.history['val_accuracy']"
      ],
      "execution_count": 39,
      "outputs": [
        {
          "output_type": "execute_result",
          "data": {
            "text/plain": [
              "[0.9836666584014893,\n",
              " 0.9907083511352539,\n",
              " 0.9928333163261414,\n",
              " 0.9938125014305115,\n",
              " 0.9943333268165588,\n",
              " 0.9942499995231628,\n",
              " 0.9951249957084656,\n",
              " 0.995520830154419,\n",
              " 0.9953333139419556,\n",
              " 0.9954166412353516,\n",
              " 0.9956666827201843,\n",
              " 0.9956458210945129,\n",
              " 0.9959791898727417,\n",
              " 0.9955000281333923,\n",
              " 0.9959166646003723,\n",
              " 0.9963124990463257,\n",
              " 0.9960416555404663,\n",
              " 0.9961249828338623,\n",
              " 0.9961875081062317,\n",
              " 0.9963333606719971,\n",
              " 0.9961666464805603,\n",
              " 0.9963541626930237,\n",
              " 0.9963124990463257,\n",
              " 0.9961666464805603,\n",
              " 0.9963124990463257,\n",
              " 0.9964791536331177,\n",
              " 0.9961875081062317,\n",
              " 0.9965208172798157,\n",
              " 0.9962499737739563,\n",
              " 0.996666669845581,\n",
              " 0.9962083101272583,\n",
              " 0.9964374899864197,\n",
              " 0.9962499737739563,\n",
              " 0.9961249828338623,\n",
              " 0.9963124990463257,\n",
              " 0.9962083101272583,\n",
              " 0.9965624809265137,\n",
              " 0.9961249828338623,\n",
              " 0.9965624809265137,\n",
              " 0.9961041808128357,\n",
              " 0.9961875081062317,\n",
              " 0.9962708353996277,\n",
              " 0.9965416789054871,\n",
              " 0.9963958263397217,\n",
              " 0.9962708353996277,\n",
              " 0.9962708353996277,\n",
              " 0.9963750243186951,\n",
              " 0.9964791536331177,\n",
              " 0.9963541626930237,\n",
              " 0.9962916374206543]"
            ]
          },
          "metadata": {
            "tags": []
          },
          "execution_count": 39
        }
      ]
    },
    {
      "cell_type": "code",
      "metadata": {
        "id": "Kk3uovETYpc0"
      },
      "source": [
        "\n",
        "\n",
        "y_pred = hypermodel.predict(test_X)\n",
        "y_label = (y_pred > 0.5)\n",
        "\n"
      ],
      "execution_count": 24,
      "outputs": []
    },
    {
      "cell_type": "code",
      "metadata": {
        "id": "YjvhwbehfaEV"
      },
      "source": [
        "import sklearn.metrics as metrics\n",
        "cm = metrics.confusion_matrix(test_y.argmax(axis=1), y_label.argmax(axis=1))"
      ],
      "execution_count": 25,
      "outputs": []
    },
    {
      "cell_type": "code",
      "metadata": {
        "colab": {
          "base_uri": "https://localhost:8080/"
        },
        "id": "uNQV3IVEfiVS",
        "outputId": "c87b5402-7351-4c92-e7e6-a592dad81547"
      },
      "source": [
        "cm"
      ],
      "execution_count": 33,
      "outputs": [
        {
          "output_type": "execute_result",
          "data": {
            "text/plain": [
              "array([[3987,    1,    2,    0,    0,    1,    4,    1,    3,    1],\n",
              "       [   0, 3992,    1,    0,    1,    0,    0,    5,    1,    0],\n",
              "       [   3,    1, 3978,    7,    1,    1,    0,    3,    3,    3],\n",
              "       [   2,    0,    3, 3987,    0,    3,    0,    0,    4,    1],\n",
              "       [   0,    0,    0,    0, 3983,    0,    1,    3,    1,   12],\n",
              "       [   1,    0,    0,    6,    0, 3983,    4,    1,    3,    2],\n",
              "       [   5,    0,    1,    0,    4,    2, 3987,    0,    1,    0],\n",
              "       [   0,    3,    2,    1,    5,    0,    0, 3986,    0,    3],\n",
              "       [   6,    0,    2,    2,    1,    3,    1,    0, 3978,    7],\n",
              "       [   0,    0,    0,    0,    4,    1,    0,    3,    2, 3990]])"
            ]
          },
          "metadata": {
            "tags": []
          },
          "execution_count": 33
        }
      ]
    },
    {
      "cell_type": "code",
      "metadata": {
        "colab": {
          "base_uri": "https://localhost:8080/"
        },
        "id": "ipU633SsfjRM",
        "outputId": "c7c2b05c-e04c-4b89-a673-4fab472c21d9"
      },
      "source": [
        "best_model.summary()"
      ],
      "execution_count": 32,
      "outputs": [
        {
          "output_type": "stream",
          "text": [
            "Model: \"sequential\"\n",
            "_________________________________________________________________\n",
            "Layer (type)                 Output Shape              Param #   \n",
            "=================================================================\n",
            "conv2d (Conv2D)              (None, 24, 24, 32)        832       \n",
            "_________________________________________________________________\n",
            "max_pooling2d (MaxPooling2D) (None, 12, 12, 32)        0         \n",
            "_________________________________________________________________\n",
            "dropout (Dropout)            (None, 12, 12, 32)        0         \n",
            "_________________________________________________________________\n",
            "conv2d_1 (Conv2D)            (None, 8, 8, 64)          51264     \n",
            "_________________________________________________________________\n",
            "max_pooling2d_1 (MaxPooling2 (None, 4, 4, 64)          0         \n",
            "_________________________________________________________________\n",
            "dropout_1 (Dropout)          (None, 4, 4, 64)          0         \n",
            "_________________________________________________________________\n",
            "flatten (Flatten)            (None, 1024)              0         \n",
            "_________________________________________________________________\n",
            "dense (Dense)                (None, 512)               524800    \n",
            "_________________________________________________________________\n",
            "dropout_2 (Dropout)          (None, 512)               0         \n",
            "_________________________________________________________________\n",
            "dense_1 (Dense)              (None, 10)                5130      \n",
            "=================================================================\n",
            "Total params: 582,026\n",
            "Trainable params: 582,026\n",
            "Non-trainable params: 0\n",
            "_________________________________________________________________\n"
          ],
          "name": "stdout"
        }
      ]
    },
    {
      "cell_type": "code",
      "metadata": {
        "colab": {
          "base_uri": "https://localhost:8080/"
        },
        "id": "NXOVglGxhsVJ",
        "outputId": "ef3b58e8-d964-48be-9310-7f01d8dc97e5"
      },
      "source": [
        "# Build the model with the optimal hyperparameters and train it on the data for 50 epochs\n",
        "checkpoint_filepath = \"custom-model-digits-best.h5\"\n",
        "model_checkpoint_callback = tf.keras.callbacks.ModelCheckpoint(\n",
        "    filepath=checkpoint_filepath,\n",
        "    save_weights_only=False,\n",
        "    monitor='val_accuracy',\n",
        "    mode='max',\n",
        "    save_best_only=True)\n",
        "\n",
        "early_stop = tf.keras.callbacks.EarlyStopping(monitor='val_loss', patience=5)\n",
        "\n",
        "cb_list = [model_checkpoint_callback, early_stop]\n",
        "model = tuner.hypermodel.build(best_hps)\n",
        "history = model.fit(train_X, train_y, epochs=50, validation_split=0.2, callbacks=cb_list)\n",
        "\n",
        "val_acc_per_epoch = history.history['val_accuracy']\n",
        "best_epoch = val_acc_per_epoch.index(max(val_acc_per_epoch)) + 1\n",
        "print('Best epoch: %d' % (best_epoch,))"
      ],
      "execution_count": 43,
      "outputs": [
        {
          "output_type": "stream",
          "text": [
            "Epoch 1/50\n",
            "6000/6000 [==============================] - 23s 4ms/step - loss: 0.5440 - accuracy: 0.8293 - val_loss: 0.0529 - val_accuracy: 0.9843\n",
            "Epoch 2/50\n",
            "6000/6000 [==============================] - 22s 4ms/step - loss: 0.0725 - accuracy: 0.9777 - val_loss: 0.0309 - val_accuracy: 0.9911\n",
            "Epoch 3/50\n",
            "6000/6000 [==============================] - 22s 4ms/step - loss: 0.0466 - accuracy: 0.9862 - val_loss: 0.0268 - val_accuracy: 0.9919\n",
            "Epoch 4/50\n",
            "6000/6000 [==============================] - 22s 4ms/step - loss: 0.0369 - accuracy: 0.9887 - val_loss: 0.0211 - val_accuracy: 0.9938\n",
            "Epoch 5/50\n",
            "6000/6000 [==============================] - 22s 4ms/step - loss: 0.0288 - accuracy: 0.9912 - val_loss: 0.0213 - val_accuracy: 0.9936\n",
            "Epoch 6/50\n",
            "6000/6000 [==============================] - 22s 4ms/step - loss: 0.0264 - accuracy: 0.9921 - val_loss: 0.0179 - val_accuracy: 0.9952\n",
            "Epoch 7/50\n",
            "6000/6000 [==============================] - 22s 4ms/step - loss: 0.0235 - accuracy: 0.9926 - val_loss: 0.0176 - val_accuracy: 0.9948\n",
            "Epoch 8/50\n",
            "6000/6000 [==============================] - 22s 4ms/step - loss: 0.0213 - accuracy: 0.9938 - val_loss: 0.0171 - val_accuracy: 0.9951\n",
            "Epoch 9/50\n",
            "6000/6000 [==============================] - 22s 4ms/step - loss: 0.0186 - accuracy: 0.9945 - val_loss: 0.0173 - val_accuracy: 0.9951\n",
            "Epoch 10/50\n",
            "6000/6000 [==============================] - 22s 4ms/step - loss: 0.0175 - accuracy: 0.9946 - val_loss: 0.0161 - val_accuracy: 0.9954\n",
            "Epoch 11/50\n",
            "6000/6000 [==============================] - 22s 4ms/step - loss: 0.0165 - accuracy: 0.9950 - val_loss: 0.0152 - val_accuracy: 0.9957\n",
            "Epoch 12/50\n",
            "6000/6000 [==============================] - 22s 4ms/step - loss: 0.0155 - accuracy: 0.9952 - val_loss: 0.0157 - val_accuracy: 0.9957\n",
            "Epoch 13/50\n",
            "6000/6000 [==============================] - 22s 4ms/step - loss: 0.0146 - accuracy: 0.9954 - val_loss: 0.0157 - val_accuracy: 0.9956\n",
            "Epoch 14/50\n",
            "6000/6000 [==============================] - 22s 4ms/step - loss: 0.0138 - accuracy: 0.9957 - val_loss: 0.0150 - val_accuracy: 0.9960\n",
            "Epoch 15/50\n",
            "6000/6000 [==============================] - 22s 4ms/step - loss: 0.0129 - accuracy: 0.9960 - val_loss: 0.0152 - val_accuracy: 0.9960\n",
            "Epoch 16/50\n",
            "6000/6000 [==============================] - 22s 4ms/step - loss: 0.0129 - accuracy: 0.9961 - val_loss: 0.0154 - val_accuracy: 0.9959\n",
            "Epoch 17/50\n",
            "6000/6000 [==============================] - 22s 4ms/step - loss: 0.0121 - accuracy: 0.9964 - val_loss: 0.0149 - val_accuracy: 0.9961\n",
            "Epoch 18/50\n",
            "6000/6000 [==============================] - 22s 4ms/step - loss: 0.0113 - accuracy: 0.9968 - val_loss: 0.0150 - val_accuracy: 0.9962\n",
            "Epoch 19/50\n",
            "6000/6000 [==============================] - 22s 4ms/step - loss: 0.0105 - accuracy: 0.9967 - val_loss: 0.0149 - val_accuracy: 0.9962\n",
            "Epoch 20/50\n",
            "6000/6000 [==============================] - 22s 4ms/step - loss: 0.0094 - accuracy: 0.9973 - val_loss: 0.0156 - val_accuracy: 0.9961\n",
            "Epoch 21/50\n",
            "6000/6000 [==============================] - 22s 4ms/step - loss: 0.0100 - accuracy: 0.9971 - val_loss: 0.0152 - val_accuracy: 0.9963\n",
            "Epoch 22/50\n",
            "6000/6000 [==============================] - 22s 4ms/step - loss: 0.0106 - accuracy: 0.9965 - val_loss: 0.0150 - val_accuracy: 0.9964\n",
            "Epoch 23/50\n",
            "6000/6000 [==============================] - 22s 4ms/step - loss: 0.0096 - accuracy: 0.9971 - val_loss: 0.0157 - val_accuracy: 0.9963\n",
            "Epoch 24/50\n",
            "6000/6000 [==============================] - 22s 4ms/step - loss: 0.0087 - accuracy: 0.9975 - val_loss: 0.0159 - val_accuracy: 0.9963\n",
            "Best epoch: 22\n"
          ],
          "name": "stdout"
        }
      ]
    },
    {
      "cell_type": "code",
      "metadata": {
        "colab": {
          "base_uri": "https://localhost:8080/",
          "height": 297
        },
        "id": "DmbBf1Su12oM",
        "outputId": "22b250a1-647a-417b-e8bc-00db9951fbf1"
      },
      "source": [
        "# plot loss during training\n",
        "plt.subplot(211)\n",
        "plt.title('Loss')\n",
        "plt.plot(history.history['loss'], label='train')\n",
        "plt.plot(history.history['val_loss'], label='val')\n",
        "plt.legend()\n",
        "# plot accuracy during training\n",
        "plt.subplot(212)\n",
        "plt.title('Accuracy')\n",
        "plt.plot(history.history['accuracy'], label='train')\n",
        "plt.plot(history.history['val_accuracy'], label='val')\n",
        "plt.legend()\n",
        "\n",
        "plt.tight_layout()\n",
        "plt.show()"
      ],
      "execution_count": 44,
      "outputs": [
        {
          "output_type": "display_data",
          "data": {
            "image/png": "[encoded data removed]",
            "text/plain": [
              "<Figure size 432x288 with 2 Axes>"
            ]
          },
          "metadata": {
            "tags": [],
            "needs_background": "light"
          }
        }
      ]
    },
    {
      "cell_type": "code",
      "metadata": {
        "id": "wiabwKUu4Kdv"
      },
      "source": [
        "del model"
      ],
      "execution_count": 45,
      "outputs": []
    },
    {
      "cell_type": "code",
      "metadata": {
        "id": "AlqywoP97QaY"
      },
      "source": [
        "from keras.models import load_model\n",
        "\n",
        "# returns a compiled model\n",
        "# identical to the previous one\n",
        "model = load_model('custom-model-digits-best.h5')"
      ],
      "execution_count": 46,
      "outputs": []
    },
    {
      "cell_type": "code",
      "metadata": {
        "colab": {
          "base_uri": "https://localhost:8080/"
        },
        "id": "pcWzDnNQ7UhD",
        "outputId": "91cf43d2-1444-4e8e-ed58-91431ef085af"
      },
      "source": [
        "type(history)"
      ],
      "execution_count": 47,
      "outputs": [
        {
          "output_type": "execute_result",
          "data": {
            "text/plain": [
              "tensorflow.python.keras.callbacks.History"
            ]
          },
          "metadata": {
            "tags": []
          },
          "execution_count": 47
        }
      ]
    },
    {
      "cell_type": "code",
      "metadata": {
        "id": "kdAYXtIi7X1b"
      },
      "source": [
        "import pandas"
      ],
      "execution_count": 48,
      "outputs": []
    },
    {
      "cell_type": "code",
      "metadata": {
        "id": "mWFuQgmb76A_"
      },
      "source": [
        "pandas.DataFrame(history.history).to_csv(\"history.csv\")"
      ],
      "execution_count": 53,
      "outputs": []
    },
    {
      "cell_type": "code",
      "metadata": {
        "colab": {
          "base_uri": "https://localhost:8080/"
        },
        "id": "Ijg_2g2m7_Xp",
        "outputId": "5573cb38-28ff-4b63-8fdd-269f483c6da6"
      },
      "source": [
        "tmp = model.evaluate(test_X, test_y)\n",
        "print(\"[test loss, test accuracy]:\", tmp)"
      ],
      "execution_count": 54,
      "outputs": [
        {
          "output_type": "stream",
          "text": [
            "1250/1250 [==============================] - 3s 2ms/step - loss: 0.0135 - accuracy: 0.9963\n",
            "[test loss, test accuracy]: [0.016333704814314842, 0.9948999881744385]\n"
          ],
          "name": "stdout"
        }
      ]
    },
    {
      "cell_type": "code",
      "metadata": {
        "id": "CDYL4RIg8I4X"
      },
      "source": [
        ""
      ],
      "execution_count": null,
      "outputs": []
    }
  ]
}