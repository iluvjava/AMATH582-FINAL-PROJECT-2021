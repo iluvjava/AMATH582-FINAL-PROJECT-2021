{
  "nbformat": 4,
  "nbformat_minor": 0,
  "metadata": {
    "colab": {
      "name": "Hyper-ResNet.ipynb",
      "provenance": [],
      "collapsed_sections": []
    },
    "kernelspec": {
      "name": "python3",
      "display_name": "Python 3"
    },
    "language_info": {
      "name": "python"
    }
  },
  "cells": [
    {
      "cell_type": "code",
      "metadata": {
        "colab": {
          "base_uri": "https://localhost:8080/"
        },
        "id": "dkLj433Z8b5n",
        "outputId": "b9e0eabb-4392-4e81-a476-e77ed9f88b27"
      },
      "source": [
        "!git clone https://github.com/sorki/python-mnist\n",
        "!./python-mnist/bin/mnist_get_data.sh\n",
        "!pip3 install emnist keras-tuner\n",
        "from emnist import extract_training_samples\n",
        "\n",
        "print(\"Imported the EMNIST libraries we need!\")"
      ],
      "execution_count": 1,
      "outputs": [
        {
          "output_type": "stream",
          "text": [
            "fatal: destination path 'python-mnist' already exists and is not an empty directory.\n",
            "data directory already present, exiting\n",
            "Requirement already satisfied: emnist in /usr/local/lib/python3.7/dist-packages (0.0)\n",
            "Requirement already satisfied: keras-tuner in /usr/local/lib/python3.7/dist-packages (1.0.2)\n",
            "Requirement already satisfied: requests in /usr/local/lib/python3.7/dist-packages (from emnist) (2.23.0)\n",
            "Requirement already satisfied: tqdm in /usr/local/lib/python3.7/dist-packages (from emnist) (4.41.1)\n",
            "Requirement already satisfied: numpy in /usr/local/lib/python3.7/dist-packages (from emnist) (1.19.5)\n",
            "Requirement already satisfied: future in /usr/local/lib/python3.7/dist-packages (from keras-tuner) (0.16.0)\n",
            "Requirement already satisfied: terminaltables in /usr/local/lib/python3.7/dist-packages (from keras-tuner) (3.1.0)\n",
            "Requirement already satisfied: scipy in /usr/local/lib/python3.7/dist-packages (from keras-tuner) (1.4.1)\n",
            "Requirement already satisfied: colorama in /usr/local/lib/python3.7/dist-packages (from keras-tuner) (0.4.4)\n",
            "Requirement already satisfied: tabulate in /usr/local/lib/python3.7/dist-packages (from keras-tuner) (0.8.9)\n",
            "Requirement already satisfied: packaging in /usr/local/lib/python3.7/dist-packages (from keras-tuner) (20.9)\n",
            "Requirement already satisfied: scikit-learn in /usr/local/lib/python3.7/dist-packages (from keras-tuner) (0.22.2.post1)\n",
            "Requirement already satisfied: certifi>=2017.4.17 in /usr/local/lib/python3.7/dist-packages (from requests->emnist) (2020.12.5)\n",
            "Requirement already satisfied: urllib3!=1.25.0,!=1.25.1,<1.26,>=1.21.1 in /usr/local/lib/python3.7/dist-packages (from requests->emnist) (1.24.3)\n",
            "Requirement already satisfied: chardet<4,>=3.0.2 in /usr/local/lib/python3.7/dist-packages (from requests->emnist) (3.0.4)\n",
            "Requirement already satisfied: idna<3,>=2.5 in /usr/local/lib/python3.7/dist-packages (from requests->emnist) (2.10)\n",
            "Requirement already satisfied: pyparsing>=2.0.2 in /usr/local/lib/python3.7/dist-packages (from packaging->keras-tuner) (2.4.7)\n",
            "Requirement already satisfied: joblib>=0.11 in /usr/local/lib/python3.7/dist-packages (from scikit-learn->keras-tuner) (1.0.1)\n",
            "Imported the EMNIST libraries we need!\n"
          ],
          "name": "stdout"
        }
      ]
    },
    {
      "cell_type": "code",
      "metadata": {
        "id": "nSkv77LI8jq2"
      },
      "source": [
        "import os\n",
        "import numpy as np\n",
        "import matplotlib.pyplot as plt\n",
        "import tensorflow as tf\n",
        "from tensorflow import keras\n",
        "from sklearn.model_selection import train_test_split\n",
        "from keras.layers import *\n",
        "from keras.models import *\n",
        "from keras.optimizers import *\n",
        "from keras.utils import to_categorical\n",
        "from emnist import extract_training_samples, extract_test_samples\n",
        "\n",
        "\n",
        "from sklearn.model_selection import GridSearchCV\n",
        "from keras.wrappers.scikit_learn import KerasClassifier\n",
        "\n",
        "import kerastuner"
      ],
      "execution_count": 2,
      "outputs": []
    },
    {
      "cell_type": "code",
      "metadata": {
        "colab": {
          "base_uri": "https://localhost:8080/"
        },
        "id": "nkwLIAMX-Fnr",
        "outputId": "5cfa497a-58fb-4742-a92c-fc9d1c6cb07a"
      },
      "source": [
        "from tensorflow.python.client import device_lib\n",
        "\n",
        "# Check all available devices if GPU is available\n",
        "print(device_lib.list_local_devices())\n",
        "sess = tf.compat.v1.Session(config=tf.compat.v1.ConfigProto(log_device_placement=True))"
      ],
      "execution_count": 3,
      "outputs": [
        {
          "output_type": "stream",
          "text": [
            "[name: \"/device:CPU:0\"\n",
            "device_type: \"CPU\"\n",
            "memory_limit: 268435456\n",
            "locality {\n",
            "}\n",
            "incarnation: 4974920139949652951\n",
            ", name: \"/device:GPU:0\"\n",
            "device_type: \"GPU\"\n",
            "memory_limit: 14674281152\n",
            "locality {\n",
            "  bus_id: 1\n",
            "  links {\n",
            "  }\n",
            "}\n",
            "incarnation: 6788237759949135502\n",
            "physical_device_desc: \"device: 0, name: Tesla T4, pci bus id: 0000:00:04.0, compute capability: 7.5\"\n",
            "]\n",
            "Device mapping:\n",
            "/job:localhost/replica:0/task:0/device:GPU:0 -> device: 0, name: Tesla T4, pci bus id: 0000:00:04.0, compute capability: 7.5\n",
            "\n"
          ],
          "name": "stdout"
        }
      ]
    },
    {
      "cell_type": "code",
      "metadata": {
        "id": "IuriEzHF9Npa"
      },
      "source": [
        "train_X, train_y = extract_training_samples(\"digits\");\n",
        "test_X, test_y = extract_test_samples(\"digits\");\n",
        "\n",
        "# Normalise\n",
        "train_X = train_X.astype('float32')\n",
        "train_X /= 255\n",
        "test_X = test_X.astype('float32')\n",
        "test_X /= 255\n",
        "\n",
        "#train_X, val_X, train_y, val_y = train_test_split(images, labels, test_size= 0.10, random_state=42)\n"
      ],
      "execution_count": 4,
      "outputs": []
    },
    {
      "cell_type": "code",
      "metadata": {
        "id": "40mDfSRQ9YY9"
      },
      "source": [
        "# Reshape image for CNN\n",
        "train_X = train_X.reshape(-1, 28, 28, 1)\n",
        "test_X = test_X.reshape(-1, 28, 28, 1)\n",
        "\n",
        "num_classes = np.unique(train_y)\n",
        "train_y = to_categorical(train_y)\n",
        "test_y = to_categorical(test_y)"
      ],
      "execution_count": 5,
      "outputs": []
    },
    {
      "cell_type": "code",
      "metadata": {
        "colab": {
          "base_uri": "https://localhost:8080/"
        },
        "id": "SghQJE3C-KD9",
        "outputId": "1d70caca-dda6-4b07-e961-0c1a93352ce7"
      },
      "source": [
        "from kerastuner.applications import HyperResNet\n",
        "from kerastuner.tuners import Hyperband\n",
        "\n",
        "hypermodel = HyperResNet(input_shape=(28, 28, 1), classes=10)\n",
        "\n",
        "tuner = Hyperband(\n",
        "    hypermodel,\n",
        "    objective='val_accuracy',\n",
        "    max_epochs=20,\n",
        "    directory='my_dir',\n",
        "    project_name='HyperResNet')\n",
        "\n",
        "stop_early = tf.keras.callbacks.EarlyStopping(monitor='val_loss', patience=5)\n",
        "tuner.search(train_X, train_y,\n",
        "             epochs=20,\n",
        "             validation_split=0.2,\n",
        "             callbacks=[stop_early])"
      ],
      "execution_count": null,
      "outputs": [
        {
          "output_type": "stream",
          "text": [
            "Trial 12 Complete [00h 29m 30s]\n",
            "val_accuracy: 0.9934375286102295\n",
            "\n",
            "Best val_accuracy So Far: 0.9934375286102295\n",
            "Total elapsed time: 05h 16m 32s\n",
            "\n",
            "Search: Running Trial #13\n",
            "\n",
            "Hyperparameter    |Value             |Best Value So Far \n",
            "version           |v1                |v2                \n",
            "conv3_depth       |4                 |4                 \n",
            "conv4_depth       |36                |23                \n",
            "pooling           |avg               |avg               \n",
            "optimizer         |sgd               |sgd               \n",
            "learning_rate     |0.01              |0.1               \n",
            "tuner/epochs      |7                 |7                 \n",
            "tuner/initial_e...|3                 |3                 \n",
            "tuner/bracket     |2                 |2                 \n",
            "tuner/round       |1                 |1                 \n",
            "tuner/trial_id    |5c18ab014cd7a1d...|320d45db2d83950...\n",
            "\n",
            "Epoch 4/7\n",
            "6000/6000 [==============================] - 618s 101ms/step - loss: 0.5605 - accuracy: 0.8903 - val_loss: 0.0669 - val_accuracy: 0.9798\n",
            "Epoch 5/7\n",
            "6000/6000 [==============================] - 609s 101ms/step - loss: 0.0666 - accuracy: 0.9803 - val_loss: 0.0402 - val_accuracy: 0.9875\n",
            "Epoch 6/7\n",
            "2528/6000 [===========>..................] - ETA: 5:36 - loss: 0.0344 - accuracy: 0.9896"
          ],
          "name": "stdout"
        }
      ]
    },
    {
      "cell_type": "code",
      "metadata": {
        "id": "2CUTu3-V-wgJ"
      },
      "source": [
        ""
      ],
      "execution_count": null,
      "outputs": []
    }
  ]
}